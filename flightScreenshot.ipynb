{
  "nbformat": 4,
  "nbformat_minor": 0,
  "metadata": {
    "colab": {
      "provenance": [],
      "mount_file_id": "1HqfwikPj9_sXMgJ3g2RIiCeOzCiuQ9bL",
      "authorship_tag": "ABX9TyNACXP2X9x5KP9wCrsV4zpH",
      "include_colab_link": true
    },
    "kernelspec": {
      "name": "python3",
      "display_name": "Python 3"
    },
    "language_info": {
      "name": "python"
    }
  },
  "cells": [
    {
      "cell_type": "markdown",
      "metadata": {
        "id": "view-in-github",
        "colab_type": "text"
      },
      "source": [
        "<a href=\"https://colab.research.google.com/github/dr-code/colab/blob/main/flightScreenshot.ipynb\" target=\"_parent\"><img src=\"https://colab.research.google.com/assets/colab-badge.svg\" alt=\"Open In Colab\"/></a>"
      ]
    },
    {
      "cell_type": "code",
      "execution_count": 2,
      "metadata": {
        "id": "LFZRZgKFHt-_",
        "colab": {
          "base_uri": "https://localhost:8080/",
          "height": 378
        },
        "outputId": "283aab97-7480-4a9a-e56a-0211a9562055"
      },
      "outputs": [
        {
          "output_type": "error",
          "ename": "ModuleNotFoundError",
          "evalue": "No module named 'selenium'",
          "traceback": [
            "\u001b[0;31m---------------------------------------------------------------------------\u001b[0m",
            "\u001b[0;31mModuleNotFoundError\u001b[0m                       Traceback (most recent call last)",
            "\u001b[0;32m<ipython-input-2-70490581eb21>\u001b[0m in \u001b[0;36m<cell line: 0>\u001b[0;34m()\u001b[0m\n\u001b[0;32m----> 1\u001b[0;31m \u001b[0;32mfrom\u001b[0m \u001b[0mselenium\u001b[0m \u001b[0;32mimport\u001b[0m \u001b[0mwebdriver\u001b[0m\u001b[0;34m\u001b[0m\u001b[0;34m\u001b[0m\u001b[0m\n\u001b[0m\u001b[1;32m      2\u001b[0m \u001b[0;32mfrom\u001b[0m \u001b[0mselenium\u001b[0m\u001b[0;34m.\u001b[0m\u001b[0mwebdriver\u001b[0m\u001b[0;34m.\u001b[0m\u001b[0mcommon\u001b[0m\u001b[0;34m.\u001b[0m\u001b[0mby\u001b[0m \u001b[0;32mimport\u001b[0m \u001b[0mBy\u001b[0m\u001b[0;34m\u001b[0m\u001b[0;34m\u001b[0m\u001b[0m\n\u001b[1;32m      3\u001b[0m \u001b[0;32mfrom\u001b[0m \u001b[0mPIL\u001b[0m \u001b[0;32mimport\u001b[0m \u001b[0mImage\u001b[0m\u001b[0;34m\u001b[0m\u001b[0;34m\u001b[0m\u001b[0m\n\u001b[1;32m      4\u001b[0m \u001b[0;32mimport\u001b[0m \u001b[0mtime\u001b[0m\u001b[0;34m\u001b[0m\u001b[0;34m\u001b[0m\u001b[0m\n\u001b[1;32m      5\u001b[0m \u001b[0;32mfrom\u001b[0m \u001b[0mgoogle\u001b[0m\u001b[0;34m.\u001b[0m\u001b[0mcolab\u001b[0m \u001b[0;32mimport\u001b[0m \u001b[0mauth\u001b[0m\u001b[0;34m\u001b[0m\u001b[0;34m\u001b[0m\u001b[0m\n",
            "\u001b[0;31mModuleNotFoundError\u001b[0m: No module named 'selenium'",
            "",
            "\u001b[0;31m---------------------------------------------------------------------------\u001b[0;32m\nNOTE: If your import is failing due to a missing package, you can\nmanually install dependencies using either !pip or !apt.\n\nTo view examples of installing some common dependencies, click the\n\"Open Examples\" button below.\n\u001b[0;31m---------------------------------------------------------------------------\u001b[0m\n"
          ],
          "errorDetails": {
            "actions": [
              {
                "action": "open_url",
                "actionText": "Open Examples",
                "url": "/notebooks/snippets/importing_libraries.ipynb"
              }
            ]
          }
        }
      ],
      "source": [
        "# Install required dependencies\n",
        "!apt-get update\n",
        "!apt-get install -y chromium-chromedriver\n",
        "!pip install selenium pillow pydrive gspread oauth2client\n",
        "\n",
        "# Import required libraries\n",
        "from selenium import webdriver\n",
        "from selenium.webdriver.common.by import By\n",
        "from PIL import Image\n",
        "import time\n",
        "from google.colab import auth\n",
        "from pydrive.auth import GoogleAuth\n",
        "from pydrive.drive import GoogleDrive\n",
        "import gspread\n",
        "from oauth2client.service_account import ServiceAccountCredentials\n",
        "\n",
        "# Authenticate Google Drive\n",
        "auth.authenticate_user()\n",
        "gauth = GoogleAuth()\n",
        "gauth.LocalWebserverAuth()\n",
        "drive = GoogleDrive(gauth)\n",
        "\n",
        "# Get flight URL from Google Drive file\n",
        "file_list = drive.ListFile({'q': \"title = 'flight_details.txt'\"}).GetList()\n",
        "if len(file_list) > 0:\n",
        "    file = file_list[0]\n",
        "    flight_url = file.GetContentString()\n",
        "    print(\"Using flight URL from Google Drive:\", flight_url)\n",
        "else:\n",
        "    print(\"Flight details file not found. Exiting...\")\n",
        "    exit()\n",
        "\n",
        "# Set up Selenium WebDriver for Chrome\n",
        "from selenium.webdriver.chrome.service import Service\n",
        "from selenium.webdriver.chrome.options import Options\n",
        "\n",
        "options = Options()\n",
        "options.add_argument(\"--headless\")\n",
        "options.add_argument(\"--no-sandbox\")\n",
        "options.add_argument(\"--disable-dev-shm-usage\")\n",
        "service = Service(\"/usr/bin/chromedriver\")\n",
        "driver = webdriver.Chrome(service=service, options=options)\n",
        "\n",
        "# Open the FlightStats page with the updated URL\n",
        "driver.get(flight_url)\n",
        "\n",
        "# Wait for the page to load\n",
        "time.sleep(5)\n",
        "\n",
        "# Locate the flight details section\n",
        "element = driver.find_element(By.CSS_SELECTOR, \"section .historical-flight-header\")\n",
        "\n",
        "# Capture full-page screenshot\n",
        "driver.save_screenshot(\"full_screenshot.png\")\n",
        "\n",
        "# Crop only the required section\n",
        "location = element.location\n",
        "size = element.size\n",
        "image = Image.open(\"full_screenshot.png\")\n",
        "left, top = location['x'], location['y']\n",
        "right, bottom = left + size['width'], top + size['height']\n",
        "cropped_image = image.crop((left, top, right, bottom))\n",
        "cropped_image.save(\"cropped_screenshot.png\")\n",
        "\n",
        "# Upload to Google Drive\n",
        "screenshot_file = drive.CreateFile({'title': 'FlightStats_Screenshot.png', 'mimeType': 'image/png'})\n",
        "screenshot_file.SetContentFile(\"cropped_screenshot.png\")\n",
        "screenshot_file.Upload()\n",
        "\n",
        "# Get the public link of the file\n",
        "screenshot_file.InsertPermission({'type': 'anyone', 'value': 'anyone', 'role': 'reader'})\n",
        "file_url = screenshot_file['webContentLink']\n",
        "\n",
        "# Save the public link to Google Sheets\n",
        "sheet_id = \"1gzK5fPqH9OW-AfKklK7aUeMnjdwKKHHfINq6Lz2ZMUU\"\n",
        "sheet_name = \"Flights\"\n",
        "\n",
        "scope = [\"https://spreadsheets.google.com/feeds\", \"https://www.googleapis.com/auth/drive\"]\n",
        "creds = ServiceAccountCredentials.from_json_keyfile_name(\"/content/drive/MyDrive/Colab Notebooks/chatgpt-446517-f9f9353e526c.json\", scope)\n",
        "client = gspread.authorize(creds)\n",
        "\n",
        "sheet = client.open_by_key(sheet_id).worksheet(sheet_name)\n",
        "sheet.update_acell(\"Q1\", file_url)\n",
        "\n",
        "# Close the browser\n",
        "driver.quit()\n",
        "\n",
        "print(\"Screenshot saved to Google Drive:\", file_url)\n"
      ]
    }
  ]
}